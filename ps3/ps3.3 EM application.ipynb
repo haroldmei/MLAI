{
 "cells": [
  {
   "cell_type": "markdown",
   "metadata": {},
   "source": [
    "The fitting model is defined by:\n",
    "\n",
    "$$\\begin{align*}\n",
    "y^{(pr)} \\sim \\mathcal{N}(\\mu_p, \\sigma_p^2) \\\\\n",
    "z^{(pr)} \\sim \\mathcal{N}(\\nu_r, \\tau_r^2) \\\\\n",
    "\\epsilon^{(pr)} \\sim \\mathcal{N}(0, \\sigma_2) \\\\\n",
    "x^{(pr)} = y^{(pr)} + z^{(pr)} + \\epsilon^{(pr)}\n",
    "\\end{align*}$$\n",
    "\n",
    "The joint mean of \n",
    "$$ w = yz = \\begin{bmatrix} y \\\\ z \\end{bmatrix}$$ \n",
    "\n",
    "is given by \n",
    "$$\\begin{bmatrix} \\mu_p \\\\ \\nu_r \\end{bmatrix}$$;\n",
    "\n",
    "And since y, z are independent, we have cov(y,z) = cov(z,y) = 0, the joint covariance is hence:\n",
    "$$\n",
    "\\Sigma_{w, w} = \\begin{bmatrix} cov(y,y)& cov(y,z) \\\\ cov(z,y)& cov(z,z) \\end{bmatrix} \n",
    "= \\begin{bmatrix} \\sigma_p^2 & 0 \\\\ 0 & \\tau_r^2 \\end{bmatrix} \\Rightarrow \\\\\n",
    "w \\sim \\mathcal{N}(\\begin{bmatrix} \\mu_p \\\\ \\nu_r \\end{bmatrix}, \\begin{bmatrix} \\sigma_p^2 & 0 \\\\ 0 & \\tau_r^2 \\end{bmatrix})\n",
    "$$\n",
    "\n",
    "Similarly, consider the joint distribution of (y, z, x), aka (w, x), its mean is given by \n",
    "$$\\begin{bmatrix} \\mu_p \\\\ \\nu_r \\\\ \\mu_p + \\nu_r \\end{bmatrix}$$; \n",
    "\n",
    "its covariance is given by:\n",
    "$$\\Sigma = \\begin{bmatrix} cov(w,w) & cov(w,x) \\\\ cov(x,w) & cov(x,x) \\end{bmatrix}$$\n",
    "\n",
    "where \n",
    "$$ cov(w, w) = \\begin{bmatrix} \\sigma_p^2 & 0 \\\\ 0 & \\tau_r^2 \\end{bmatrix} $$\n",
    "\n",
    "$$\\begin{align*}\n",
    "cov(w, x) = E[(w - \\mu_w)(x - \\mu_x)] \\\\\n",
    "= E\\bigg[\\begin{bmatrix} y - \\mu_p \\\\ z - \\tau_r \\end{bmatrix}(y - \\mu_p + z - \\tau_r + \\epsilon)\\bigg] \\\\\n",
    "= E\\bigg[\\begin{bmatrix} (y - \\mu_p)^2 + (y - \\mu_p)(z - \\tau_r) \\\\ (z - \\tau_r)^2 + (y - \\mu_p)(z - \\tau_r) \\end{bmatrix}\\bigg] \\\\\n",
    "= \\begin{bmatrix} cov(y,y) + cov(y,z) \\\\ cov(z,z) + cov(y,z) \\end{bmatrix} \\\\\n",
    "= \\begin{bmatrix} cov(y,y) \\\\ cov(z,z) \\end{bmatrix} = \\begin{bmatrix} \\sigma_p^2 \\\\ \\tau_r^2 \\end{bmatrix}\n",
    "\\end{align*}$$\n",
    "\n",
    "$$\\begin{align*}\n",
    "cov(x, x) = E[(x - \\mu_x)(x - \\mu_x)] \\\\\n",
    "= E[(y - \\mu_p + z - \\tau_r + \\epsilon)(y - \\mu_p + z - \\tau_r + \\epsilon)] \\\\\n",
    "= E[(y - \\mu_p)^2 + (z - \\tau_r)^2 + \\epsilon^2 + 2(y - \\mu_p)(z - \\tau_r) + 2\\epsilon(y - \\mu_p + z - \\tau_r)] \\\\\n",
    "= cov(y,y) + cov(z,z) + cov(\\epsilon,\\epsilon) \\\\\n",
    "= \\sigma_p^2 + \\tau_r^2 + \\sigma_2\n",
    "\\end{align*}$$\n",
    "\n",
    "This gives the distribution of the joint distribution of (y, z, x)\n",
    "$$(y, z, x) \\sim \\mathcal{N}\\bigg(\\begin{bmatrix} \\mu_p \\\\ \\nu_r \\\\ \\mu_p + \\nu_r \\end{bmatrix}, \n",
    "\\begin{bmatrix} \n",
    "\\sigma_p^2 & 0 & \\sigma_p^2 \\\\ \n",
    "0 & \\tau_r^2 & \\tau_r^2 \\\\\n",
    "\\sigma_p^2 & \\tau_r^2 & \\sigma_p^2 + \\tau_r^2 + \\sigma_2\n",
    "\\end{bmatrix}\\bigg)$$\n"
   ]
  },
  {
   "cell_type": "markdown",
   "metadata": {},
   "source": [
    "Similar to course notes, the posteri probability $Q_{pr}(y^{pr}, z^{pr})$ is given by the following conditional distribution:\n",
    "$$\n",
    "w|x \\sim \\mathcal{N}(\\mu_{w|x}, \\Sigma_{w|x})\n",
    "$$"
   ]
  },
  {
   "cell_type": "code",
   "execution_count": null,
   "metadata": {},
   "outputs": [],
   "source": []
  }
 ],
 "metadata": {
  "kernelspec": {
   "display_name": "Python 3",
   "language": "python",
   "name": "python3"
  },
  "language_info": {
   "codemirror_mode": {
    "name": "ipython",
    "version": 3
   },
   "file_extension": ".py",
   "mimetype": "text/x-python",
   "name": "python",
   "nbconvert_exporter": "python",
   "pygments_lexer": "ipython3",
   "version": "3.6.3"
  }
 },
 "nbformat": 4,
 "nbformat_minor": 2
}
