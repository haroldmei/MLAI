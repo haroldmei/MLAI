{
 "cells": [
  {
   "cell_type": "markdown",
   "metadata": {},
   "source": [
    "## PS8 From Language to Logic"
   ]
  },
  {
   "cell_type": "markdown",
   "metadata": {},
   "source": [
    "### Problem 4: Logical Inference\n",
    "#### a. \n",
    "Given the KB:\n",
    "$$\n",
    "\\text{KB}=\\{ (A \\lor B)\\rightarrow C, A\\}\n",
    "$$\n",
    "Derive $C$.\n",
    "\n",
    "$$\\begin{eqnarray*}\n",
    "(A \\lor B)\\rightarrow C \n",
    "&=& \\neg(A \\lor B) \\lor C \\\\\n",
    "&=& \\neg A \\land \\neg B \\lor C \\\\\n",
    "&=& \\neg A \\lor C \\land \\neg B \\\\\n",
    "&=& A \\rightarrow C \\land \\neg B \n",
    "\\end{eqnarray*}$$\n",
    "\n",
    "The converted CNF form KB:\n",
    "$$\n",
    "\\text{KB}=\\{ A \\rightarrow C \\land \\neg B , A\\}\n",
    "$$\n",
    "\n",
    "Since $A \\rightarrow C \\land \\neg B \\Rightarrow A \\rightarrow C$, together with $A$, and apply Modus ponens, we can derive $C$ from the $\\text{KB}$."
   ]
  },
  {
   "cell_type": "markdown",
   "metadata": {},
   "source": [
    "#### b. \n",
    "Given the KB, convert the knowledge base into CNF and apply the resolution rule repeatedly to derive D.\n",
    "\n",
    "$$\n",
    "\\text{KB}=\\{ A \\lor B, B \\rightarrow C, (A \\lor C) \\rightarrow D \\} \n",
    "\\Rightarrow \\text{KB}=\\{ A \\lor B, \\neg B \\lor C, \\neg A \\land \\neg C \\lor D \\}\n",
    "$$\n",
    "\n",
    "From the first two apply resolution rule: $A \\lor B, \\neg B \\lor C \\Rightarrow A \\lor C $,  \n",
    "Together with the third and apply modus ponnes: $(A \\lor C) \\rightarrow D, A \\lor C \\Rightarrow D $"
   ]
  },
  {
   "cell_type": "markdown",
   "metadata": {},
   "source": [
    "### Problem 5: Odd and even integers  \n",
    "\n",
    "#### b. \n",
    "Prove that there is no finite, non-empty model for which the resulting set of 7 constraints is consistent. \n",
    "\n",
    "Suppose there are 2 different values (x,y) in the model, that satisfies all the 6 constraints in previous section.\n",
    "  1. From rule 1, because Each number should have a successor and it is unique, we have:  \n",
    "    Successor(x, y) = Successor(y, x) = True,  \n",
    "    Not(Equals(x,y)) = True  \n",
    "\n",
    "\n",
    "  2. From rule 5:  \n",
    "    Larger(Successor(x), x)=True, which can be just written as Larger(y,x)=True;  \n",
    "    Larger(Successor(y), y)=True, which can just be written as Larger(x,y)=True  \n",
    "\n",
    "\n",
    "  3. From rule 6 and above 2, we have: \n",
    "    Implies(And(Larger(y,x), Larger(x,y)), Larger(y,y))=True, which contradicts with the last rule: Not(Larger(y,y))=True  \n",
    "\n",
    "\n",
    "Suppose there are 3 different values (x,y,z), similarily:\n",
    "  1. From rule 1, because Each number should have a successor and it is unique, we have:  \n",
    "    Successor(x, y) = Successor(y, z) = Successor(z, x) = True,  \n",
    "    Not(Equals(x,y)) = True, Not(Equals(y,z)) = True, Not(Equals(z,x)) = True  \n",
    "\n",
    "\n",
    "  2. From rule 5:  \n",
    "    Larger(Successor(x), x)=True, which can be just written as Larger(y,x)=True;  \n",
    "    Larger(Successor(y), y)=True, which can just be written as Larger(z,y)=True  \n",
    "    Larger(Successor(z), z)=True, which can just be written as Larger(x,z)=True  \n",
    "\n",
    "\n",
    "  3. From rule 6 and above 2, we have: \n",
    "    Implies(AndList(Larger(y,x), Larger(z,y), Larger(x,z)), Larger(x,x))=True,   \n",
    "    which contradicts with the last rule: Not(Larger(x,x))=True  \n",
    "\n",
    "We can use induction to any finite, non-empty model in the similar way as the above 2,3 cases, and find out that finally the result contradicts the last rule. So there is no finite, non-empty model for which the resulting set of 7 constraints is consistent. "
   ]
  }
 ],
 "metadata": {
  "kernelspec": {
   "display_name": "Python 3",
   "language": "python",
   "name": "python3"
  },
  "language_info": {
   "codemirror_mode": {
    "name": "ipython",
    "version": 3
   },
   "file_extension": ".py",
   "mimetype": "text/x-python",
   "name": "python",
   "nbconvert_exporter": "python",
   "pygments_lexer": "ipython3",
   "version": "3.6.8"
  }
 },
 "nbformat": 4,
 "nbformat_minor": 2
}
