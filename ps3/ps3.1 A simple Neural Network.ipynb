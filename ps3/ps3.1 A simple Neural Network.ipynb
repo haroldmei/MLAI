{
 "cells": [
  {
   "cell_type": "markdown",
   "metadata": {},
   "source": [
    "Grident w.r.t $W_{1,2}^{[1]}$.\n",
    "\n",
    "Forward propagation: \n",
    "$$ \\tag{} $$\n",
    "$$ z^{[1]}=W^{[1]}x^{(i)} \\tag{1} $$\n",
    "$$ h=g(z^{[1]}) \\tag{2} $$\n",
    "$$ z^{[2]}=W^{[2]}h \\tag{3} $$\n",
    "$$ o^{(i)}=g(z^{[2]}) \\tag{4} $$\n",
    "\n",
    "Cost function:\n",
    "$$l=\\frac{1}{m}\\Sigma_i^m(o^{(i)}-y^{(i)})^2 \\tag{5} $$\n",
    "\n",
    "Derivative of $W^{[2]}$ (Not needed in this problem.)\n",
    "$$\\frac{\\partial{L}}{\\partial{W^{[2]}}}=\\frac{\\partial{}}{\\partial{W^{[2]}}}(o^{(i)}-y^{(i)})^2 \\tag{}$$\n",
    "$$=2(o^{(i)}-y^{(i)})\\frac{\\partial{}}{\\partial{W^{[2]}}}(g(z^{[2]}))\\tag{} $$\n",
    "$$=2(o^{(i)}-y^{(i)})(g(z^{[2]})(1-g(z^{[2]}))h\\tag{} $$\n",
    "$$=2(o^{(i)}-y^{(i)})o^{(i)}(1-o^{(i)})h\\tag{} $$\n",
    "\n",
    "Derivative of $W^{[1]}$\n",
    "$$\\frac{\\partial{L}}{\\partial{W^{[1]}}}=\\frac{\\partial{L}}{\\partial{o}}\\frac{\\partial{o}}{\\partial{z^{[2]}}}\\frac{\\partial{z^{[2]}}}{\\partial{h}}\\frac{\\partial{h}}{\\partial{z^{[1]}}}\\frac{\\partial{z^{[1]}}}{\\partial{W^{[1]}}} \\tag{}$$\n",
    "$$ =2(o-y)o(1-o)W^{[2]}h(1-h)x\\tag{dimension alignment needed} $$\n",
    "\n",
    "Add subscription and sum up:\n",
    "$$ \\frac{\\partial{L}}{\\partial{W_{1,2}^{[1]}}}=\\frac{1}{m}\\Sigma_i^m(2(o^{(i)}-y^{(i)})o^{(i)}(1-o^{(i)})W^{[2]}h_2(1-h_2)x_1^{(i)})\\tag{} $$"
   ]
  },
  {
   "cell_type": "markdown",
   "metadata": {},
   "source": [
    "Matrix that classify the dataset.\n",
    "In the dataset plot, find three point clock wise which can form a triangle to separate the dataset in two:\n",
    "    $$a^{(1)} = (0.3, 0.3), a^{(2)} = (0.3, 4), a^{(3)} = (4, 0.3)$$\n",
    "Substract with the next to form three vectors, and add intercept in front:\n",
    "    $$v^{(1)} = (0, -3.7)$$ \n",
    "    $$v^{(2)} = (-3.7, 3.7)$$\n",
    "    $$v^{(3)} = (3.7, 0)$$\n",
    "Equations for the above three vectors:\n",
    "$$ \\frac{x_1-a_1^{(2)}}{v_1^{(1)}}=\\frac{x_2-a_2^{(2)}}{v_2^{(1)}} \\Rightarrow $$\n",
    "$$ v_2^{(1)}x_1-v_2^{(1)}a_1^{(2)}=v_1^{(1)}x_2-v_1^{(1)}a_2^{(2)} \\Rightarrow $$\n",
    "$$ v_2^{(1)}x_1-v_1^{(1)}x_2+(v_1^{(1)}a_2^{(2)}-v_2^{(1)}a_1^{(2)})=0 \\Rightarrow $$\n",
    "$$ W_1^{[1]}=\n",
    "  \\begin{bmatrix} v_2^{(1)} & -v_1^{(1)} & v_1^{(1)}a_2^{(2)}-v_2^{(1)}a_1^{(2)}\\end{bmatrix} \n",
    "  = \\begin{bmatrix} -3.7 & 0 & 1.11\\end{bmatrix} \n",
    "$$\n",
    "$$ W_2^{[1]}=\n",
    "  \\begin{bmatrix} v_2^{(2)} & -v_1^{(2)} & v_1^{(2)}a_2^{(3)}-v_2^{(2)}a_1^{(3)}\\end{bmatrix} \n",
    "  = \\begin{bmatrix} 3.7 & 3.7 & -15.99\\end{bmatrix} \n",
    "$$\n",
    "$$ W_3^{[1]}=\n",
    "  \\begin{bmatrix} v_2^{(3)} & -v_1^{(3)} & v_1^{(3)}a_2^{(1)}-v_2^{(3)}a_1^{(1)}\\end{bmatrix} \n",
    "  = \\begin{bmatrix} 0 & -3.7 & 1.11\\end{bmatrix} \n",
    "$$\n",
    "Stack them up and form a matrix\n",
    "$$\n",
    "W^{[1]}=\n",
    "  \\begin{bmatrix}\n",
    "    -3.7 & 0 & 1.11 \\\\\n",
    "    3.7 & 3.7 & -15.99 \\\\\n",
    "    0 & -3.7 & 1.11\n",
    "  \\end{bmatrix}\n",
    "$$\n",
    "Explanation: given any point x, if its projection on the normal of vector $v^{(i)}$ is positive then it is on the right hand of $v^{(i)}$, otherwise on the left. If it lies on the right of all the vectors, it is inside the triangle. (note the intercept is the last component of W which can be easily adjusted to be the first component)\n",
    "\n",
    "Output layer matrix can be: $$W^{[2]}=  \\begin{bmatrix} -1 & -1 & -1 & 2.5 \\end{bmatrix}$$\n",
    "Because the input can only be one of the eight combinations of $$h=  \\begin{bmatrix} 0,1 \\\\ 0,1 \\\\ 0,1 \\\\ 1 \\end{bmatrix}$$\n",
    "This guarantees that only for dataset inside the the triangle could the product $W^{[2]}h$ be negative, which will then make f(x) = 0. All the other cases will have $W^{[2]}h >= 0$ (f(x)=1)"
   ]
  },
  {
   "cell_type": "code",
   "execution_count": null,
   "metadata": {},
   "outputs": [],
   "source": []
  }
 ],
 "metadata": {
  "kernelspec": {
   "display_name": "Python 3",
   "language": "python",
   "name": "python3"
  },
  "language_info": {
   "codemirror_mode": {
    "name": "ipython",
    "version": 3
   },
   "file_extension": ".py",
   "mimetype": "text/x-python",
   "name": "python",
   "nbconvert_exporter": "python",
   "pygments_lexer": "ipython3",
   "version": "3.6.3"
  }
 },
 "nbformat": 4,
 "nbformat_minor": 2
}
