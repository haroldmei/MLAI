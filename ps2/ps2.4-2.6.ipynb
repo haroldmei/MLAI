{
 "cells": [
  {
   "cell_type": "markdown",
   "metadata": {},
   "source": [
    "(a) K(x,z) =  K1(x,z) + K2(x,z) is also a kernel, it is obvious that if K1 and K2 are both symmetric and positive semi-definitive.\n",
    "\n",
    "a, K is symmetric:\n",
    "$$K1_{ij} = K1_{ji}, K2_{ij} = K2_{ji} \\Rightarrow $$\n",
    "$$K1_{ij} + K2_{ij} = K1_{ji} + K2_{ji} \\Rightarrow $$\n",
    "$$K_{ij} = K_{ji}$$\n",
    "\n",
    "b, K is positive semi-definitive\n",
    "If both K1 and K2 are positive semi-definitive, then K1 + K2 is also positive semi-definitive."
   ]
  },
  {
   "cell_type": "markdown",
   "metadata": {},
   "source": [
    "(b) K(x, z) = K1(x, z) - K2(x, z) Not necessarily positive semi-definitive. Same as (a) it is symmetric, but not always positive definitive."
   ]
  },
  {
   "cell_type": "markdown",
   "metadata": {},
   "source": [
    "(c) K(x, z) = aK1(x, z) positive semi-definitive only when a >= 0."
   ]
  },
  {
   "cell_type": "markdown",
   "metadata": {},
   "source": [
    "(d) K(x, z) = -aK1(x, z) positive semi-definitive only when a <= 0."
   ]
  },
  {
   "cell_type": "markdown",
   "metadata": {},
   "source": [
    "(e) K(x,z) =  K1(x,z)K2(x,z) still a kernel. \n",
    "$$ K1(x,z)K2(x,z) = K2^{T}(x,z)K1^{T}(x,z) = K2(x,z)K1(x,z) \\tag{1} $$\n",
    "$$ K_{ij} = \\sum_{k}K1_{ik}K2_{kj} \\tag{2}$$\n",
    "$$ K_{ji} = \\sum_{k}K1_{jk}K2_{ki} = \\sum_{k}K1_{kj}K2_{ik} = \\sum_{k}K2_{ik}K1_{kj} \\tag{3}$$\n",
    "\n",
    "Summarize (1),(2),(3) we get:$$ K_{ij} = K_{ji} $$ means K is symmetric;\n",
    "K1,K2 are positive semi-definitive means $$ x^{T}K_1x >= 0, x^{T}K_2x >= 0 \\Rightarrow$$\n",
    "$$ x^{T}K_1xx^{T}K_2x >= 0 \\Rightarrow$$\n",
    "$$ x^{T}K_1K_2x >= 0 \\Rightarrow Q.E.D$$"
   ]
  }
 ],
 "metadata": {
  "kernelspec": {
   "display_name": "Python 3",
   "language": "python",
   "name": "python3"
  },
  "language_info": {
   "codemirror_mode": {
    "name": "ipython",
    "version": 3
   },
   "file_extension": ".py",
   "mimetype": "text/x-python",
   "name": "python",
   "nbconvert_exporter": "python",
   "pygments_lexer": "ipython3",
   "version": "3.6.3"
  }
 },
 "nbformat": 4,
 "nbformat_minor": 2
}
