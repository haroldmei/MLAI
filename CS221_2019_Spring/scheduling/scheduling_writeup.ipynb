{
 "cells": [
  {
   "cell_type": "markdown",
   "metadata": {},
   "source": [
    "# CS221, Spring 2019, PS6 Schedule\n",
    "Haiyuan Mei (hmei0411@stanford.edu)"
   ]
  },
  {
   "cell_type": "markdown",
   "metadata": {},
   "source": [
    "## Problem 0: Warmup\n",
    "### a. CSP for m buttons and n bulbs\n",
    "1. There are m variables corresponding to each of the m buttons, denoted as $X_1,\\dots,X_m$\n",
    "2. Each of the n bulbs corresponds to a constraint, denotes as $b_1,\\dots,b_n$\n",
    "3. In the factor graph, each $X_j$ will connect to bulbs in $T_j$. Hence there will be more than 1 variables(buttons) connected to a contraint(bulb). \n",
    "4. The contraint uses XOR operation on each of the connected variables, meaning the bulb is only turned on when the button is pressed odd number of times.   \n",
    "\n",
    "For example, the following code describes a CSP with 5 buttons $X_1,\\dots,X_5$, and 3 bulbs $b_1,b_2,b_3$; "
   ]
  },
  {
   "cell_type": "markdown",
   "metadata": {},
   "source": [
    "// Create your own factor graph!  \n",
    "// Call variable(), factor(), query() followed by an inference algorithm.  \n",
    "variable('X1', [0, 1])  \n",
    "variable('X2', [0, 1])  \n",
    "variable('X3', [0, 1])  \n",
    "variable('X4', [0, 1])  \n",
    "variable('X5', [0, 1])  \n",
    "\n",
    "factor('b1', 'S1 S2', function(a, b) {  \n",
    "    return a ^ b;  \n",
    "})  \n",
    "factor('b2', 'S2 S3 S4', function(a, b, c) {  \n",
    "    return a ^ b ^ c;  \n",
    "})  \n",
    "factor('b3', 'S3 S4 S5', function(a, b, c) {  \n",
    "    return a ^ b ^ c;  \n",
    "})  \n",
    "sumVariableElimination()  "
   ]
  },
  {
   "cell_type": "markdown",
   "metadata": {},
   "source": [
    "The control of each button is:\n",
    "$$\\begin{eqnarray*}\n",
    "T_1&=&\\{b1\\} \\\\\n",
    "T_2&=&\\{b1,b2\\} \\\\\n",
    "T_3&=&\\{b2,b3\\} \\\\\n",
    "T_4&=&\\{b2,b3\\} \\\\\n",
    "T_5&=&\\{b3\\} \\\\\n",
    "\\end{eqnarray*}$$\n",
    "\n",
    "The following shows the factor graph of the example and the result (Graph generated from by course demo scripts):\n",
    "\n",
    "![ps0.1.png](./ps0.1.png)"
   ]
  },
  {
   "cell_type": "markdown",
   "metadata": {},
   "source": [
    "### b. Simple CSP\n",
    "1. How many consistent assignments?\n",
    "Answer: 2 consistent assignments, they are: [1,0,1] and [0,1,0]\n",
    "\n",
    "2. There are at most 15 calls to backtrack if no heuristics at all. With assignment order is $X_1,X_3,X_2$, the call stack looks like following:  \n",
    "backtrack({\\Phi},1,{0,1})  \n",
    "....backtrack({0},1,{0,1})  \n",
    "........backtrack({0,0},1,{0,1})  \n",
    "............backtrack({0,0,0},1,{0,1})  \n",
    "............backtrack({0,0,1},1,{0,1})  \n",
    "........backtrack({0,1},1,{0,1})  \n",
    "............backtrack({0,1,0},1,{0,1})  \n",
    "............backtrack({0,1,1},1,{0,1})  \n",
    "....backtrack({1},1,{0,1})  \n",
    "........backtrack({1,0},1,{0,1})  \n",
    "............backtrack({1,0,0},1,{0,1})  \n",
    "............backtrack({1,0,1},1,{0,1})  \n",
    "........backtrack({1,1},1,{0,1})  \n",
    "............backtrack({1,1,0},1,{0,1})  \n",
    "............backtrack({1,1,1},1,{0,1})  "
   ]
  },
  {
   "cell_type": "markdown",
   "metadata": {},
   "source": [
    "3. With AC-3 and assignment order is $X_1,X_3,X_2$ there will be only 7 backtrack calls:  \n",
    "backtrack({\\Phi},1,{0,1})  \n",
    "....backtrack({0},1,{0,1})  \n",
    "........backtrack({0,0},1,{0,1})  \n",
    "............backtrack({0,0,1},1,{0,1})  \n",
    "....backtrack({1},1,{0,1})  \n",
    "........backtrack({1,1},1,{0,1})  \n",
    "............backtrack({1,1,0},1,{0,1})  "
   ]
  },
  {
   "cell_type": "markdown",
   "metadata": {},
   "source": [
    "## Problem 2: Handling n-ary factors\n",
    "### a. Convert to unary and binary constraints\n",
    "Similar to lecture notes p76, step 1 we add auxiliary variables $A_0,A_1,A_2,A_3$ such that:  \n",
    "$$\\begin{eqnarray*}\n",
    "[A_0 &=& 0] \\\\\n",
    "[A_i &=& A_{i-1} + X_i] \\\\\n",
    "[A_3 &\\le& K] \\\\\n",
    "\\end{eqnarray*}$$\n",
    "\n",
    "The second step is to eliminate the ternary factor $[A_i = A_{i-1} + X_i]$ by introducing auxiliary variables $B,B_1,B_2,B_3$ where $[B_i = (A_{i-1}, A_i)]$, we have:\n",
    "$$\\begin{eqnarray*}\n",
    "[B_1[1] &=& 0] \\\\\n",
    "[B_i[2] &=& B_i[1] + X_i]  \\\\\n",
    "[B_3[2] &\\le& K] \\\\\n",
    "[B_{i-1}[2] &=& B_i[1]]  \\\\\n",
    "\\end{eqnarray*}$$"
   ]
  },
  {
   "cell_type": "markdown",
   "metadata": {},
   "source": [
    "The factor graph looks like:\n",
    "![ps2.1.png](./ps2.1.png)"
   ]
  },
  {
   "cell_type": "markdown",
   "metadata": {},
   "source": [
    "The above 2 unaries:\n",
    "$$\\begin{eqnarray*}\n",
    "u1 = [B_1[1] &=& 0] \\\\\n",
    "u2 = [B_3[2] &\\le& K]\n",
    "\\end{eqnarray*}$$\n",
    "and 4 binaries:\n",
    "\n",
    "$$\\begin{eqnarray*}\n",
    "b1 = [B_{1}[2] &=& B_2[1]] \\\\\n",
    "b2 = [B_{2}[2] &=& B_3[1]] \\\\\n",
    "f1 = [B_1[2] &=& B_1[1] + X_1] \\\\\n",
    "f2 = [B_2[2] &=& B_2[1] + X_2] \\\\\n",
    "f3 = [B_3[2] &=& B_3[1] + X_3] \\\\\n",
    "\\end{eqnarray*}$$"
   ]
  },
  {
   "cell_type": "markdown",
   "metadata": {},
   "source": [
    "## Problem 3: Course Scheduling\n",
    "### c. create you own profile.txt and run the scheduler\n",
    "1. The profile file I created is:  \n",
    "\n",
    "\\# Unit limit per quarter. You can ignore this for the first  \n",
    "\\# few questions in problem 2.  \n",
    "minUnits 3  \n",
    "maxUnits 6  \n",
    "  \n",
    "\\# These are the quarters that I need to fill. It is assumed that  \n",
    "\\# the quarters are sorted in chronological order.  \n",
    "register Aut2019  \n",
    "register Win2020  \n",
    "  \n",
    "\\# Courses I've already taken  \n",
    "taken CS221  \n",
    "taken CS229  \n",
    "  \n",
    "\\# Courses that I'm requesting  \n",
    "request CS224N in Aut2019 weight 2   \n",
    "request CS231A in Win2020 weight 3  \n",
    "request CS228 in Aut2019  \n",
    "request CS240 in Win2020 weight 2  "
   ]
  },
  {
   "cell_type": "markdown",
   "metadata": {},
   "source": [
    "2. Here's the best schedule:  \n",
    "\n",
    "|  Quarter  |  Units   | Course  |\n",
    "|-----------|----------|---------|\n",
    "|  Aut2019  |     4    |  CS224N |\n",
    "|  Win2020  |     3    |  CS231A |\n",
    "|  Win2020  |     3    |   CS240 |\n"
   ]
  },
  {
   "cell_type": "markdown",
   "metadata": {},
   "source": [
    "## Problem 4: Weighted CSPs with notable patterns \n",
    "\n",
    "### a. What would be the worst treewidth?\n",
    "The worst case is when p has the maximum length n. In this case the treewidth should be n-1. $\\gamma$ is now the n-ary factor, the graph is shown below. Eliminating from left would result in a max arity n-1.\n",
    "![p4.png](./p4.png)\n",
    "\n",
    "### b. An algorithm that would fix the n-ary problem.\n",
    "Instead of blindly making an n-ary CSP problem above, we could model the CSP problem in a different way. Suppose in the length of p is $n_p$, for each matching pattern in $x=(x_1,\\dots,x_n)$, we couls just assign each element of the matching array a unary factor with $\\gamma(x_i)=\\lambda^{\\frac{1}{p_n}}$. Then for the whole matching pattern, there are $p_n$ unary factors end up with $\\gamma(x_i,\\dots,x_{i+n_p - 1}) = \\lambda$  \n",
    "For example, still the above $X_1,X_2,X_3,X_4$, suppose there is a p = {x1,x2}, matching once. The factor graph could be just as following:  \n",
    "![p4_2.png](./p4_2.png)\n"
   ]
  },
  {
   "cell_type": "code",
   "execution_count": null,
   "metadata": {},
   "outputs": [],
   "source": []
  }
 ],
 "metadata": {
  "kernelspec": {
   "display_name": "Python 3",
   "language": "python",
   "name": "python3"
  },
  "language_info": {
   "codemirror_mode": {
    "name": "ipython",
    "version": 3
   },
   "file_extension": ".py",
   "mimetype": "text/x-python",
   "name": "python",
   "nbconvert_exporter": "python",
   "pygments_lexer": "ipython3",
   "version": "3.6.7"
  }
 },
 "nbformat": 4,
 "nbformat_minor": 2
}
