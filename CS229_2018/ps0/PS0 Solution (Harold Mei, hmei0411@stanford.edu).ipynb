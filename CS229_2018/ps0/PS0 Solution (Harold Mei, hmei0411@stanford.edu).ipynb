{
 "cells": [
  {
   "cell_type": "markdown",
   "metadata": {},
   "source": [
    "## PS0 Solution (Harold Mei, hmei0411@stanford.edu)"
   ]
  },
  {
   "cell_type": "markdown",
   "metadata": {},
   "source": [
    "### 1 Gradient and Hessians"
   ]
  },
  {
   "cell_type": "markdown",
   "metadata": {},
   "source": [
    "(a) $\\nabla f(x) = Ax + b$"
   ]
  },
  {
   "cell_type": "markdown",
   "metadata": {},
   "source": [
    "(b) $\\nabla f(x) = g'(h(x)) \\nabla h(x)$"
   ]
  },
  {
   "cell_type": "markdown",
   "metadata": {},
   "source": [
    "(c) $\\nabla^2 f(x) = A$"
   ]
  },
  {
   "cell_type": "markdown",
   "metadata": {},
   "source": [
    "(d) $\\nabla^2 f(x) = g''(a^Tx)aa^T$"
   ]
  },
  {
   "cell_type": "markdown",
   "metadata": {},
   "source": [
    "### 2 Positive definite matrices"
   ]
  },
  {
   "cell_type": "markdown",
   "metadata": {},
   "source": [
    "#### (a) Show that $A = zz^T$ is positive semidefinite.  "
   ]
  },
  {
   "cell_type": "markdown",
   "metadata": {},
   "source": [
    "PROOF: suppose vector x $\\ne$ 0; the qustion is to just prove $x^TAx \\ge 0$.   \n",
    "$$ x^TAx = x^Tzz^Tx \\tag 1 $$ \n",
    "Since $x^Tz = z^Tx = c$ is just a scalor, $x^TAx = c^2 \\ge 0$.  "
   ]
  },
  {
   "cell_type": "markdown",
   "metadata": {},
   "source": [
    "#### (b) Let $A = zz^T$ and z is non-zero, nullspace and rank of A."
   ]
  },
  {
   "cell_type": "markdown",
   "metadata": {},
   "source": [
    "Nullspace of A is just the solution space for $Ax = 0$.   \n",
    "Since $x^TAx = x^Tzz^Tx = (x^Tz)^2 \\ge 0$, x can only be $\\vec{0}$ if $Ax = 0$, so nullspace of A is $\\{\\vec{0}\\}$.   "
   ]
  },
  {
   "cell_type": "markdown",
   "metadata": {},
   "source": [
    "A is full rank. Sicne A is positive definite, it is a full rank matrix.   \n",
    "Otherwise some column can be written as a linear combination of all other columns and hence an all 0 column can be generated. Suppose after some linear transformation the ith column is all 0, pick a vector x to have its ith component non-zero while all others are zeros, $x^TAx = 0$ which contradicts the PD definition.  "
   ]
  },
  {
   "cell_type": "markdown",
   "metadata": {},
   "source": [
    "#### (c) Prove that $BAB^T$ is PSD."
   ]
  },
  {
   "cell_type": "markdown",
   "metadata": {},
   "source": [
    "Given any vector $x \\in \\mathbb{R}^{1 \\times m}$, we have $y = xB \\in \\mathbb{R}^{1 \\times n}$  \n",
    "$$xBAB^Tx = yAy^T \\ge 0 \\tag 2$$\n",
    "Q.E.D.  "
   ]
  },
  {
   "cell_type": "markdown",
   "metadata": {},
   "source": [
    "### 3 Eigenvectors, eigenvalues and the spectral theorem"
   ]
  },
  {
   "cell_type": "markdown",
   "metadata": {},
   "source": [
    "#### (a) show that $At^{(i)}=\\lambda_i t^{(i)}$ given diagnalizable matrix $A = T\\Lambda T^{-1}$ "
   ]
  },
  {
   "cell_type": "markdown",
   "metadata": {},
   "source": [
    "Since $$AT = T\\Lambda$$ and $$T = [t^{(1)}, t^{(2)}, ..., t^{(n)}]$$\n",
    "which is just:   \n",
    "$$ \\begin{align*}\n",
    "& A[t^{(1)}, t^{(2)}, ..., t^{(n)}] = [t^{(1)}, t^{(2)}, ..., t^{(n)}] \\Lambda  \\tag 3\\\\\n",
    "&\\Rightarrow [At^{(1)}, At^{(2)}, ..., At^{(n)}] = [\\lambda_1 t^{(1)}, \\lambda_2 t^{(2)}, ..., \\lambda_n t^{(n)}]  \\tag 4\\\\\n",
    "&\\Rightarrow At^{(i)}=\\lambda_i t^{(i)} \n",
    "\\end{align*} $$\n",
    "From (3) to (4) the multiplication applies on the ith component of every row vector for $\\lambda_i$ which is just the ith column  vector $t^{(i)}$.  "
   ]
  },
  {
   "cell_type": "markdown",
   "metadata": {},
   "source": [
    "#### (b) Properties of symmetric matrices and orthogonal matrices"
   ]
  },
  {
   "cell_type": "markdown",
   "metadata": {},
   "source": [
    "PROOF:   \n",
    "By the spetral theorem, given a symmetric matrix $A$, it can be written as $A = U\\Lambda U^T$ for an orthogonal matrix $U$, $ U^TU = I $   \n",
    "Orthogonal matrix has a nice property $U^T = U^{-1}$, which can be pluged into $A = U\\Lambda U^T$ and change the form to the following: $$AU = U\\Lambda$$\n",
    "This is just the same as in 3.(a) which gives the result: \n",
    "$$Au^{(i)} = \\lambda_i u^{(i)}$$\n",
    "where $\\Lambda = diag(\\lambda_1,\\lambda_2,...,\\lambda_n)$ and ($u^{(i)}, \\lambda_i$) are eigenvector/eigenvalue pairs."
   ]
  },
  {
   "cell_type": "markdown",
   "metadata": {},
   "source": [
    "#### (c) Show that if A is PSD then $\\lambda_i(A)\\ge 0$ for each i"
   ]
  },
  {
   "cell_type": "markdown",
   "metadata": {},
   "source": [
    "Suppose $A$ is PSD, then $\\forall x, x^T A x \\ge 0 $;   \n",
    "For any of its eigenvector/eigenvalue pair ($u^{(i)}, \\lambda_i$):  \n",
    "$$ \\begin{align*} \n",
    "& Au^{(i)}=\\lambda_i u^{(i)} \\\\\n",
    "& \\Rightarrow {u^{(i)}}^TAu^{(i)} = {u^{(i)}}^T \\lambda_iu^{(i)} = \\lambda_i \\|u^{(i)}\\|_2^2 \\ge 0 \\\\\n",
    "& \\Rightarrow \\lambda_i(A) \\ge 0 \\\\\n",
    "\\end{align*}$$ Q.E.D."
   ]
  },
  {
   "cell_type": "code",
   "execution_count": null,
   "metadata": {},
   "outputs": [],
   "source": []
  }
 ],
 "metadata": {
  "kernelspec": {
   "display_name": "Python 3",
   "language": "python",
   "name": "python3"
  },
  "language_info": {
   "codemirror_mode": {
    "name": "ipython",
    "version": 3
   },
   "file_extension": ".py",
   "mimetype": "text/x-python",
   "name": "python",
   "nbconvert_exporter": "python",
   "pygments_lexer": "ipython3",
   "version": "3.6.4"
  }
 },
 "nbformat": 4,
 "nbformat_minor": 2
}
