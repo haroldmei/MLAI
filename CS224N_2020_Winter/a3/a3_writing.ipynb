{
 "cells": [
  {
   "cell_type": "markdown",
   "metadata": {},
   "source": [
    "### 1.a Adam Optimizer"
   ]
  },
  {
   "cell_type": "markdown",
   "metadata": {},
   "source": [
    "#### i. Momentum\n",
    "\n",
    "\n",
    "Standard SGD have problem navigating around ravines. For example, in a 2-D setting, the gradient oscillates on Y direction but keep increasing to the X direction. In the following left image, on Y direction the gradient keeps oscillating from a large positive value to a large negative value, but on X direction it decreases it's magnitude keeps moving slowly to the local minima.\n",
    "\n",
    "| Without momentum | With momentum |\n",
    "| :- | :- |\n",
    "| ![without_momentum.gif](without_momentum.gif) | ![with_momentum.gif](with_momentum.gif) |\n",
    "\n",
    "By applying momentum, gradient changes to the same direction will keep increasing, which achieves faster convergence to the local minima; gradient changes in different directions will have it's magnitude decreased, which achieves reduced update oscillation. \n"
   ]
  },
  {
   "cell_type": "markdown",
   "metadata": {},
   "source": [
    "#### ii. Adaptive learning rate\n",
    "Since the update step is divided by the gradient magnitude in each direction, directions with higher gradient magnitude will have a smaller update rate; directions with lower gradient magnitude will receive higher update rate.  \n",
    "\n",
    "As learning is getting closer to the optima, changes in each direction will get smaller and smaller, hence the convergence will become much slower. Adaptive learning rate will scale up the update steps as the learning reaches to the optimal."
   ]
  },
  {
   "cell_type": "markdown",
   "metadata": {},
   "source": [
    "#### 1.b Dropout"
   ]
  },
  {
   "cell_type": "markdown",
   "metadata": {},
   "source": [
    "#### i. Value of $\\gamma$\n",
    "The derivation of $\\gamma$:  \n",
    "Simplify $\\mathbb{E}_{P_{drop}}[h_{drop}]_i$:\n",
    "$$\n",
    "\\begin{align}\n",
    "\\mathbb{E}_{P_{drop}}[h_{drop}]_i &= \\mathbb{E}_{P_{drop}}[\\gamma d_i h_i] \\\\\n",
    "&= \\gamma h_i \\mathbb{E}_{P_{drop}}[d_i] \\\\\n",
    "&= \\gamma h_i (1 - P_{drop}) \\\\\n",
    "\\end{align}\n",
    "$$\n",
    "\n",
    "The last equation holds by applying the defionition of dropouts: $d_i$ is 1 with probability of $1 - P_{drop}$. \n",
    "\n",
    "The following equation holds:\n",
    "$$\n",
    "\\begin{align}\n",
    "\\gamma h_i (1 - P_{drop}) &= h_i \\\\\n",
    "& \\Rightarrow \\gamma = \\frac{1}{1 - P_{drop}}\n",
    "\\end{align}\n",
    "$$\n",
    "So the chosen $\\gamma$ should be $\\gamma = \\frac{1}{1 - P_{drop}}$."
   ]
  },
  {
   "cell_type": "markdown",
   "metadata": {},
   "source": [
    "#### ii. Why not dropout during evaluation\n",
    "In deep learning, Dropout is a way to prevent over-fitting. There is no such problem in evaluation so the need for Dropout simply does not exist. Instead, all the activations are used but are reduced by a factor $P_{drop}$ to account for the missing activations during training."
   ]
  },
  {
   "cell_type": "markdown",
   "metadata": {},
   "source": [
    "### 2.a Sequence of transitions\n",
    "\n",
    "|  Stack | Buffer | New Dependency | Transition |\n",
    "| :-     | :-     | :-             | :-         |\n",
    "| [ROOT]|  [I, parsed, this, sentence, correctly]   | | Init           |         \n",
    "| [ROOT, I]|  [parsed, this, sentence, correctly]   | | Shift          |         \n",
    "| [ROOT, I, parsed]|  [this, sentence, correctly]   | | Shift          |       \n",
    "| [ROOT, parsed]|  [this, sentence, correctly]|     parsed->I         | Left-Arc       |                   \n",
    "| [ROOT, parsed, this]|  [sentence, correctly]|     |  Shift          |       \n",
    "| [ROOT, parsed, this, sentence]  |  [correctly]| | Shift          |           \n",
    "| [ROOT, parsed, sentence]|  [correctly] |     sentence->this    | Left-Arc       |           \n",
    "| [ROOT, parsed] |  [correctly] |     parsed->sentence  | Right-Arc      |                   \n",
    "| [ROOT, parsed, correctly]       |  []|                       | Shift          |       \n",
    "| [ROOT, parsed]                  |  []|     parsed->correctly | Right-Arc      |                       \n",
    "| [ROOT]                          |  []|     ROOT->parsed      | Right-Arc      |        "
   ]
  },
  {
   "cell_type": "markdown",
   "metadata": {},
   "source": [
    "### 2.b Number of steps\n",
    "Total steps of the parsing is 2n:  \n",
    "Shift n times plus n times Left or Right Arc will be needed to make the buffer and stack empty."
   ]
  },
  {
   "cell_type": "markdown",
   "metadata": {},
   "source": [
    "### 2.e Best UAS achieved on the dev set and the UAS it achieves on the test set\n",
    "\n",
    "* Best UAS on dev set: 88.73\n",
    "* Test UAS: 88.80"
   ]
  },
  {
   "cell_type": "markdown",
   "metadata": {},
   "source": [
    "### 2.f Dependency parse errors\n",
    "1.   \n",
    "• Error type: Verb Phrase Attachment Error  \n",
    "• Incorrect dependency: wedding → fearing  \n",
    "• Correct dependency: disembarked → fearing  \n",
    "  \n",
    "  \n",
    "2.   \n",
    "• Error type: Coordination Attachment Error  \n",
    "• Incorrect dependency: makes → rescue  \n",
    "• Correct dependency: rush → rescue  \n",
    "  \n",
    "  \n",
    "3.   \n",
    "• Error type: Prepositional Phrase Attachment Error  \n",
    "• Incorrect dependency: named → Midland  \n",
    "• Correct dependency: guy → Midland  \n",
    "  \n",
    "  \n",
    "4.   \n",
    "• Error type: Modifier Attachment Error  \n",
    "• Incorrect dependency: elements → most  \n",
    "• Correct dependency: crucial → most  "
   ]
  },
  {
   "cell_type": "code",
   "execution_count": null,
   "metadata": {},
   "outputs": [],
   "source": []
  }
 ],
 "metadata": {
  "kernelspec": {
   "display_name": "Python 3",
   "language": "python",
   "name": "python3"
  },
  "language_info": {
   "codemirror_mode": {
    "name": "ipython",
    "version": 3
   },
   "file_extension": ".py",
   "mimetype": "text/x-python",
   "name": "python",
   "nbconvert_exporter": "python",
   "pygments_lexer": "ipython3",
   "version": "3.6.9"
  }
 },
 "nbformat": 4,
 "nbformat_minor": 2
}
