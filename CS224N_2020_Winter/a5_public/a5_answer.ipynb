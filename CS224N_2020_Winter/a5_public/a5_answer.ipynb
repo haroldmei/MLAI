{
 "cells": [
  {
   "cell_type": "markdown",
   "metadata": {},
   "source": [
    "### CS224N 2020 Winter A5"
   ]
  },
  {
   "cell_type": "markdown",
   "metadata": {},
   "source": [
    "#### 1.a \n",
    "Convolutional architectures can operate over variable length inputs. Because the model parameters is also independent of the length of the input sentence."
   ]
  },
  {
   "cell_type": "markdown",
   "metadata": {},
   "source": [
    "#### 1.b\n",
    "The size of padding is 1, so as to make the smallest possible of $m_\\text{word}=1$ to fit in at least one window: $m_\\text{word}+2+(2*\\text{padding})=5$."
   ]
  },
  {
   "cell_type": "markdown",
   "metadata": {},
   "source": [
    "#### 1.c\n",
    "It doesn't matter whether to initialize the $b_\\text{gate}$ term positive or negative, because the gradient signal of a sigmoid is $\\sigma (1-\\sigma)$ and it will have the same back propogation effect to the inner linear layer."
   ]
  },
  {
   "cell_type": "markdown",
   "metadata": {},
   "source": [
    "### 1.d\n",
    "* The computation of Transformer can be easily parallelled for GPU computing.\n",
    "* Transformer doesn't have the vanishing gradient problem when operating on long sequence."
   ]
  }
 ],
 "metadata": {
  "kernelspec": {
   "display_name": "Python 3",
   "language": "python",
   "name": "python3"
  },
  "language_info": {
   "codemirror_mode": {
    "name": "ipython",
    "version": 3
   },
   "file_extension": ".py",
   "mimetype": "text/x-python",
   "name": "python",
   "nbconvert_exporter": "python",
   "pygments_lexer": "ipython3",
   "version": "3.7.3"
  }
 },
 "nbformat": 4,
 "nbformat_minor": 4
}
