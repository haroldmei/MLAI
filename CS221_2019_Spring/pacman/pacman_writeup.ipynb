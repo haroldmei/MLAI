{
 "cells": [
  {
   "cell_type": "markdown",
   "metadata": {},
   "source": [
    "# CS221, Spring 2019, PS5 Pacman\n",
    "Haiyuan Mei (hmei0411@stanford.edu)"
   ]
  },
  {
   "cell_type": "markdown",
   "metadata": {},
   "source": [
    "## Problem 1: Minimax"
   ]
  },
  {
   "cell_type": "markdown",
   "metadata": {},
   "source": [
    "### a. Recurrence of $V_{minmax(s,d)}$.\n",
    "$$\n",
    "V_{minmax}(s,d)=\\begin{cases} \n",
    "\\text{Utility}(s) &,& \\text{IsEnd}(s) \\\\\n",
    "\\text{Eval}(s) &,& d=0 \\\\\n",
    "\\max_{a\\in \\text{Actions}(s)}V_{minmax}(Succ(s,a),d) &,& \\text{Player}(s)=a_0 \\\\\n",
    "\\min_{a\\in \\text{Actions}(s)}V_{minmax}(Succ(s,a),d) &,& \\text{Player}(s) = a_{1 \\dots n-1} \\\\\n",
    "\\min_{a\\in \\text{Actions}(s)}V_{minmax}(Succ(s,a),d-1) &,& \\text{Player}(s) = a_n \\\\\n",
    "\\end{cases}\n",
    "$$"
   ]
  },
  {
   "cell_type": "markdown",
   "metadata": {},
   "source": [
    "## Problem 3: Expectimax"
   ]
  },
  {
   "cell_type": "markdown",
   "metadata": {},
   "source": [
    "### a. Recurrence of $V_{expectimax(s,d)}$.\n",
    "$$\n",
    "V_{expectimax}(s,d)=\\begin{cases} \n",
    "\\text{Utility}(s) &,& \\text{IsEnd}(s) \\\\\n",
    "\\text{Eval}(s) &,& d=0 \\\\\n",
    "\\max_{a\\in \\text{Actions}(s)}V_{expectimax}(Succ(s,a),d) &,& \\text{Player}(s)=a_0 \\\\\n",
    "\\sum_{a\\in \\text{Actions}(s)}\\pi_(s,a) V_{expectimax}(Succ(s,a),d) &,& \\text{Player}(s) = a_{1 \\dots n-1}  \\\\\n",
    "\\sum_{a\\in \\text{Actions}(s)}\\pi_(s,a) V_{expectimax}(Succ(s,a),d-1) &,& \\text{Player}(s) = a_n \\\\\n",
    "\\end{cases} \\\\\n",
    "$$\n",
    "Note the above $\\pi_(s,a)=\\frac{1}{\\lvert \\text{Actions}(s) \\rvert}$"
   ]
  },
  {
   "cell_type": "code",
   "execution_count": null,
   "metadata": {},
   "outputs": [],
   "source": []
  },
  {
   "cell_type": "code",
   "execution_count": null,
   "metadata": {},
   "outputs": [],
   "source": []
  },
  {
   "cell_type": "code",
   "execution_count": null,
   "metadata": {},
   "outputs": [],
   "source": []
  }
 ],
 "metadata": {
  "kernelspec": {
   "display_name": "Python 3",
   "language": "python",
   "name": "python3"
  },
  "language_info": {
   "codemirror_mode": {
    "name": "ipython",
    "version": 3
   },
   "file_extension": ".py",
   "mimetype": "text/x-python",
   "name": "python",
   "nbconvert_exporter": "python",
   "pygments_lexer": "ipython3",
   "version": "3.6.7"
  }
 },
 "nbformat": 4,
 "nbformat_minor": 2
}
