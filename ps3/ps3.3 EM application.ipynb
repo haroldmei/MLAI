{
 "cells": [
  {
   "cell_type": "markdown",
   "metadata": {},
   "source": [
    "(a) E-step derivation\n",
    "=========================\n",
    "1, Parameters of joint distribution p(y, z, x).\n",
    "---------------------------------------------------\n",
    "\n",
    "The fitting model is defined by:\n",
    "\n",
    "$$\\begin{align*}\n",
    "y^{(pr)} \\sim \\mathcal{N}(\\mu_p, \\sigma_p^2) \\\\\n",
    "z^{(pr)} \\sim \\mathcal{N}(\\nu_r, \\tau_r^2) \\\\\n",
    "\\epsilon^{(pr)} \\sim \\mathcal{N}(0, \\sigma_2) \\\\\n",
    "x^{(pr)} = y^{(pr)} + z^{(pr)} + \\epsilon^{(pr)}\n",
    "\\end{align*}$$\n",
    "\n",
    "The joint mean of $ w = \\begin{bmatrix} y \\\\ z \\end{bmatrix} $\n",
    "is given by \n",
    "$$\\mu_w = \\begin{bmatrix} \\mu_p \\\\ \\nu_r \\end{bmatrix} \\tag{1}$$\n",
    "\n",
    "And since y, z are independent, we have cov(y,z) = cov(z,y) = 0, the joint covariance is hence:\n",
    "$$\n",
    "\\Sigma_{w, w} = \\begin{bmatrix} cov(y,y)& cov(y,z) \\\\ cov(z,y)& cov(z,z) \\end{bmatrix} \n",
    "= \\begin{bmatrix} \\sigma_p^2 & 0 \\\\ 0 & \\tau_r^2 \\end{bmatrix} \\tag{2}\n",
    "$$\n",
    "This gives the following:\n",
    "$$\n",
    "w \\sim \\mathcal{N}(\\begin{bmatrix} \\mu_p \\\\ \\nu_r \\end{bmatrix}, \\begin{bmatrix} \\sigma_p^2 & 0 \\\\ 0 & \\tau_r^2 \\end{bmatrix})\n",
    "$$\n",
    "\n",
    "Similarly, consider the joint distribution of (y, z, x), aka (w, x), its mean is given by \n",
    "$$\\mu = \\begin{bmatrix} \\mu_p \\\\ \\nu_r \\\\ \\mu_p + \\nu_r \\end{bmatrix}$$\n",
    "where $$\\mu_x = \\mu_p + \\nu_r \\tag{3}$$\n",
    "\n",
    "its covariance is given by:\n",
    "$$\\Sigma = \\begin{bmatrix} cov(w,w) & cov(w,x) \\\\ cov(x,w) & cov(x,x) \\end{bmatrix}$$\n",
    "\n",
    "where \n",
    "$$ cov(w, w) = \\begin{bmatrix} \\sigma_p^2 & 0 \\\\ 0 & \\tau_r^2 \\end{bmatrix} $$\n",
    "\n",
    "$$\\begin{align*}\n",
    "\\Sigma_{wx} = cov(w, x) \n",
    "&= E[(w - \\mu_w)(x - \\mu_x)] \\\\\n",
    "&= E\\bigg[\\begin{bmatrix} y - \\mu_p \\\\ z - \\tau_r \\end{bmatrix}(y - \\mu_p + z - \\tau_r + \\epsilon)\\bigg] \\\\\n",
    "&= E\\bigg[\\begin{bmatrix} (y - \\mu_p)^2 + (y - \\mu_p)(z - \\tau_r) \\\\ (z - \\tau_r)^2 + (y - \\mu_p)(z - \\tau_r) \\end{bmatrix}\\bigg] \\\\\n",
    "&= \\begin{bmatrix} cov(y,y) + cov(y,z) \\\\ cov(z,z) + cov(y,z) \\end{bmatrix} \\\\\n",
    "&= \\begin{bmatrix} cov(y,y) \\\\ cov(z,z) \\end{bmatrix} \\\\\n",
    "&= \\begin{bmatrix} \\sigma_p^2 \\\\ \\tau_r^2 \\end{bmatrix}\n",
    "\\end{align*} \\tag{4}$$\n",
    "\n",
    "$$\\begin{align*}\n",
    "\\Sigma_{xx} = cov(x, x) \n",
    "&= E[(x - \\mu_x)(x - \\mu_x)] \\\\\n",
    "&= E[(y - \\mu_p + z - \\tau_r + \\epsilon)(y - \\mu_p + z - \\tau_r + \\epsilon)] \\\\\n",
    "&= E[(y - \\mu_p)^2 + (z - \\tau_r)^2 + \\epsilon^2 + 2(y - \\mu_p)(z - \\tau_r) + 2\\epsilon(y - \\mu_p + z - \\tau_r)] \\\\\n",
    "&= cov(y,y) + cov(z,z) + cov(\\epsilon,\\epsilon) \\\\\n",
    "&= \\sigma_p^2 + \\tau_r^2 + \\sigma_2\n",
    "\\end{align*} \\tag{5}$$\n",
    "\n",
    "This gives the distribution of the joint distribution of (y, z, x)\n",
    "$$(y, z, x) \\sim \\mathcal{N}\\bigg(\\begin{bmatrix} \\mu_p \\\\ \\nu_r \\\\ \\mu_p + \\nu_r \\end{bmatrix},\\  \n",
    "\\begin{bmatrix} \n",
    "\\sigma_p^2 & 0 & \\sigma_p^2 \\\\ \n",
    "0 & \\tau_r^2 & \\tau_r^2 \\\\\n",
    "\\sigma_p^2 & \\tau_r^2 & \\sigma_p^2 + \\tau_r^2 + \\sigma_2\n",
    "\\end{bmatrix}\\bigg)$$\n"
   ]
  },
  {
   "cell_type": "markdown",
   "metadata": {},
   "source": [
    "2 Posterior distribution $Q_{pr}(y^{(pr)}, z^{(pr)})$  \n",
    "------------------------------------------------------------  \n",
    "\n",
    "Similar to course notes, the posterior probability $Q_{pr}(w^{pr}) = Q_{pr}(y^{pr}, z^{pr})$ is given by the following conditional distribution:  \n",
    "\n",
    "$$ w|x \\sim \\mathcal{N}(\\mu_{w|x}, \\Sigma_{w|x}) $$\n",
    "\n",
    "The posterior probability is:  \n",
    "\n",
    "$$\\begin{align*}\n",
    "Q_{pr}(y^{(pr)}, z^{(pr)})  \n",
    "&= p(y^{(pr)}, z^{(pr)} | x^{(pr)}) \\\\\n",
    "&= \\frac{1}{\\sqrt{2\\pi} \\left| \\Sigma_{w|x} \\right|} \n",
    "\\exp{\\bigg(-\\frac{1}{2}\n",
    "\\bigg( \\begin{bmatrix} y^{(pr)} \\\\ z^{(pr)} \\end{bmatrix} - \\mu_{w|x} \\bigg)^T \\Sigma_{w|x}^{-1}\n",
    "\\bigg( \\begin{bmatrix} y^{(pr)} \\\\ z^{(pr)} \\end{bmatrix} - \\mu_{w|x} \\bigg)\n",
    "\\bigg)}\n",
    "\\end{align*}$$\n",
    "\n",
    "where $$\\begin{align*}\n",
    "\\mu_{w|x} \n",
    "&= \\mu_w + \\Sigma_{wx}\\Sigma_{xx}^{-1}(x - \\mu_x) \\\\\n",
    "&= \\begin{bmatrix} \\mu_p \\\\ \\nu_r \\end{bmatrix} + \\begin{bmatrix} \\sigma_p^2 \\\\ \\tau_r^2 \\end{bmatrix} \\bigg(\\sigma_p^2 + \\tau_r^2 + \\sigma^2 \\bigg)^{-1} (x - (\\mu_p + \\nu_r))\n",
    "\\end{align*}$$"
   ]
  },
  {
   "cell_type": "markdown",
   "metadata": {},
   "source": [
    "\n",
    "$$\\begin{align*}\n",
    "\\Sigma_{w|x} \n",
    "&= \\Sigma_{ww} - \\Sigma_{wx}\\Sigma_{xx}^{-1}\\Sigma_{xw} \\\\\n",
    "&= \\begin{bmatrix} \\sigma_p^2 & 0 \\\\ 0 & \\tau_r^2 \\end{bmatrix} - \\begin{bmatrix} \\sigma_p^2 \\\\ \\tau_r^2 \\end{bmatrix} \\bigg(\\sigma_p^2 + \\tau_r^2 + \\sigma^2 \\bigg)^{-1} \\begin{bmatrix} \\sigma_p^2 \\\\ \\tau_r^2 \\end{bmatrix}^T\n",
    "\\end{align*}$$"
   ]
  },
  {
   "cell_type": "markdown",
   "metadata": {},
   "source": [
    "(b) M-step derivation\n",
    "========================\n",
    "$$\\begin{align*}\n",
    "l(\\mu_p,\\sigma_p,\\nu_r,\\tau_r) \n",
    "&= \\Sigma_w \\Sigma_x Q_{pr}(w^{pr}) \\log \\frac{p(w^{pr},x^{pr})}{Q_{pr}(w^{pr})} \\\\\n",
    "&= \\Sigma_w \\Sigma_x Q_{pr}(w^{pr}) \\bigg(\\log p(w^{pr},x^{pr}) - \\log Q_{pr}(w^{pr}) \\bigg) \\\\\n",
    "&= \\Sigma_w \\Sigma_x Q_{pr}(w^{pr}) \\bigg(\\log p(w^{pr} | x^{pr}) + \\log p(x^{pr}) - \\log Q_{pr}(w^{pr}) \\bigg) \\\\\n",
    "&= \\Sigma_x E\\bigg[\\log p(w^{pr} | x^{pr}) + \\log p(x^{pr}) - \\log Q_{pr}(w^{pr}) \\bigg]\n",
    "\\end{align*}$$"
   ]
  },
  {
   "cell_type": "markdown",
   "metadata": {},
   "source": [
    "Combine (1) and (5) we have:\n",
    "$$ x \\sim \\mathcal{N} \\bigg(\\mu_p + \\nu_r,\\ \\sigma_p^2 + \\tau_r^2 + \\sigma^2 \\bigg) $$\n",
    "$$ p(x) = \\frac {1}{\\sqrt{2 \\pi}\\|\\sigma_p^2 + \\tau_r^2 + \\sigma^2\\|}\n",
    " \\exp {(x - \\mu_p - \\nu_r)^T(\\sigma_p^2 + \\tau_r^2 + \\sigma_2)^{-1}(x - \\mu_p - \\nu_r)} $$\n",
    "\n",
    "Brute force math derivation for $\\frac{\\partial l}{\\partial \\mu_p}$, $\\frac{\\partial l}{\\partial \\nu_r}$, $\\frac{\\partial l}{\\partial \\sigma_p}$, $\\frac{\\partial l}{\\partial \\tau_r}$ where $l(\\mu_p,\\sigma_p,\\nu_r,\\tau_r) $ is the following:\n",
    "$$\\begin{align*}\n",
    "l(\\mu_p,\\sigma_p,\\nu_r,\\tau_r) \n",
    "&= \\Sigma_x E\\bigg[\\log p(w^{pr} | x^{pr}) + \\log p(x^{pr}) - \\log Q_{pr}(w^{pr}) \\bigg]\n",
    "\\end{align*}$$"
   ]
  },
  {
   "cell_type": "code",
   "execution_count": null,
   "metadata": {},
   "outputs": [],
   "source": []
  }
 ],
 "metadata": {
  "kernelspec": {
   "display_name": "Python 2",
   "language": "python",
   "name": "python2"
  },
  "language_info": {
   "codemirror_mode": {
    "name": "ipython",
    "version": 2
   },
   "file_extension": ".py",
   "mimetype": "text/x-python",
   "name": "python",
   "nbconvert_exporter": "python",
   "pygments_lexer": "ipython2",
   "version": "2.7.10"
  }
 },
 "nbformat": 4,
 "nbformat_minor": 2
}
