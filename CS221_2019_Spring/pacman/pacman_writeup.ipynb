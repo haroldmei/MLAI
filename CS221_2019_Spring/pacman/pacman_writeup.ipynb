{
 "cells": [
  {
   "cell_type": "markdown",
   "metadata": {},
   "source": [
    "# CS221, Spring 2019, PS5 Pacman\n",
    "Haiyuan Mei (hmei0411@stanford.edu)"
   ]
  },
  {
   "cell_type": "markdown",
   "metadata": {},
   "source": [
    "## Problem 1: Minimax"
   ]
  },
  {
   "cell_type": "markdown",
   "metadata": {},
   "source": [
    "### a. Recurrence of $V_{minmax(s,d)}$.\n",
    "$$\n",
    "V_{minmax}(s,d)=\\begin{cases} \n",
    "\\text{Utility}(s) &,& \\text{IsEnd}(s) \\\\\n",
    "\\text{Eval}(s) &,& d=0 \\\\\n",
    "\\max_{a\\in \\text{Actions}(s)}V_{minmax}(Succ(s,a),d) &,& \\text{Player}(s)=a_0 \\\\\n",
    "\\min_{a\\in \\text{Actions}(s)}V_{minmax}(Succ(s,a),d) &,& \\text{Player}(s) = a_{1 \\dots n-1} \\\\\n",
    "\\min_{a\\in \\text{Actions}(s)}V_{minmax}(Succ(s,a),d-1) &,& \\text{Player}(s) = a_n \\\\\n",
    "\\end{cases}\n",
    "$$"
   ]
  },
  {
   "cell_type": "markdown",
   "metadata": {},
   "source": [
    "## Problem 3: Expectimax"
   ]
  },
  {
   "cell_type": "markdown",
   "metadata": {},
   "source": [
    "### a. Recurrence of $V_{expectimax(s,d)}$.\n",
    "$$\n",
    "V_{expectimax}(s,d)=\\begin{cases} \n",
    "\\text{Utility}(s) &,& \\text{IsEnd}(s) \\\\\n",
    "\\text{Eval}(s) &,& d=0 \\\\\n",
    "\\max_{a\\in \\text{Actions}(s)}V_{expectimax}(Succ(s,a),d) &,& \\text{Player}(s)=a_0 \\\\\n",
    "\\sum_{a\\in \\text{Actions}(s)}\\pi_(s,a) V_{expectimax}(Succ(s,a),d) &,& \\text{Player}(s) = a_{1 \\dots n-1}  \\\\\n",
    "\\sum_{a\\in \\text{Actions}(s)}\\pi_(s,a) V_{expectimax}(Succ(s,a),d-1) &,& \\text{Player}(s) = a_n \\\\\n",
    "\\end{cases} \\\\\n",
    "$$\n",
    "Note the above $\\pi_(s,a)=\\frac{1}{\\lvert \\text{Actions}(s) \\rvert}$"
   ]
  },
  {
   "cell_type": "markdown",
   "metadata": {},
   "source": [
    "## Problem 4: Evaluation function"
   ]
  },
  {
   "cell_type": "markdown",
   "metadata": {},
   "source": [
    "### b. Thoughts on pacman evaluation function\n",
    "Generally the features I can access are: \n",
    "1. distance to food: should have higher reward going towards positions close to more food. Firstly I use number of food in square $\\text{foodgrid}_{p_0-\\text{offset} \\dots p_0+\\text{offset}, p_1-\\text{offset} \\dots p_1+\\text{offset}}$, then used $\\sum \\frac{1.0}{\\text{distance}(p,(x,y))}$ but neither achieve good results. Then changed to $\\frac{c1}{2^{\\text{distance}}}$ incorporated with the following ghost related feature makes things work.\n",
    "\n",
    "2. distance to ghost, should avoid going too close to ghost. Feature extracted is $-\\frac{c2}{\\text{distance}}$. Here need to redeem a positive fraction when the ghost is in scary state. The redeemed number is $\\frac{10\\times c2}{\\text{distance}}$\n",
    "\n",
    "3. distance to capsule, trying to make higher reward when close to capsules, but doesn't seem to help much. The reason I guess should be related to movement flexibility: When pacman is cornered, it is very easy to be eaten by ghost.\n",
    "\n",
    "4. number of actions, Tried to use number of actions as a feature, but doesn't get much result.\n",
    "\n",
    "5. scared timer, it is used in above item 2 for redeeming ghost cost.\n",
    "\n",
    "$\\textbf{Result}$: the average winning score on my windows 10:  \n",
    "Scores:        53, 650, 1667, 175, -61, 1556, 416, 1322, 1519, 1442, 424, -42, 1266, -152, 1619, 127, 1659, 1308, 1591, 1582  \n",
    "Win Rate:      11/20 (0.55)  \n",
    "Record:        Loss, Loss, Win, Loss, Loss, Win, Loss, Win, Win, Win, Loss, Loss, Win, Loss, Win, Loss, Win, Win, Win, Win  \n",
    "Average score of winning games: 1502  \n"
   ]
  },
  {
   "cell_type": "code",
   "execution_count": null,
   "metadata": {},
   "outputs": [],
   "source": []
  }
 ],
 "metadata": {
  "kernelspec": {
   "display_name": "Python 3",
   "language": "python",
   "name": "python3"
  },
  "language_info": {
   "codemirror_mode": {
    "name": "ipython",
    "version": 3
   },
   "file_extension": ".py",
   "mimetype": "text/x-python",
   "name": "python",
   "nbconvert_exporter": "python",
   "pygments_lexer": "ipython3",
   "version": "3.6.7"
  }
 },
 "nbformat": 4,
 "nbformat_minor": 2
}
