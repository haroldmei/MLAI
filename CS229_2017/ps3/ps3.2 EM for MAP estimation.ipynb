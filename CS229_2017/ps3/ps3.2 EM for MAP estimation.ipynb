{
 "cells": [
  {
   "cell_type": "markdown",
   "metadata": {},
   "source": [
    "$$\\begin{align*}\n",
    "l(\\theta) \n",
    "&= \\sum_{i=1}^m \\log p(x^{(i)}|\\theta) + \\log p(\\theta) \\\\\n",
    "&= \\sum_{i=1}^m \\log \\sum_{z^{(i)}} p(x^{(i)}, z^{(i)}|\\theta) + \\log p(\\theta) \\\\\n",
    "&= \\sum_{i=1}^m \\log \\sum_{z^{(i)}} Q_i(z^{(i)}) \\frac{p(x^{(i)}, z^{(i)}|\\theta)}{Q_i(z^{(i)})} + \\log p(\\theta) \\\\\n",
    "&>= \\sum_{i=1}^m \\sum_{z^{(i)}} Q_i(z^{(i)}) \\log \\frac{p(x^{(i)}, z^{(i)}|\\theta)}{Q_i(z^{(i)})} + \\log p(\\theta) \n",
    "\\end{align*}$$\n",
    "\n",
    "The above equality holds when $\\frac{p(x^{(i)}, z^{(i)}|\\theta)}{Q_i(z^{(i)})} = c$ and since $\\sum_zQ_i(z^{(i)}) = 1$, the following holds:\n",
    "$$\\begin{align*}\n",
    "Q_i(z^{(i)})\n",
    "&= \\frac{p(x^{(i)}, z^{(i)}| \\theta)}{p(x^{(i)}| \\theta)} \\\\\n",
    "&= p(z^{(i)} | x^{(i)}, \\theta)\n",
    "\\end{align*}$$\n",
    "\n",
    "EM for MAP is the following:  \n",
    "Repeat until convergence  \n",
    "{  \n",
    "(E-step) For each i, set  \n",
    "    $$ Q_t(z^{(i)}) = p(z^{(i)} | x^{(i)}, \\theta) $$\n",
    "    \n",
    "(M-step) set  \n",
    "    $$ θ = arg\\ max_{\\theta} \\sum_{i=1}^m \\sum_{z^{(i)}} Q_i(z^{(i)}) \\log \\frac{p(x^{(i)}, z^{(i)}|\\theta)}{Q_i(z^{(i)})} + \\log p(\\theta) $$  \n",
    "}\n",
    "\n",
    "Prove that $ l(\\theta) = \\sum_{i=1}^m \\log p(x^{(i)}|\\theta) + \\log p(\\theta)  $ monotonically increases with each iteration.\n",
    "This is just to prove that $ l(\\theta^{(t)}) <= l(\\theta^{(t+1)}) $\n",
    "\n",
    "Firstly, given $ Q_i(z^{(i)}) := p(z^{(i)} | x^{(i)}, \\theta) $ the following equality holds:\n",
    "$$ l(\\theta^{t)}) = \\sum_{i=1}^m \\sum_{z^{(i)}} Q_i(z^{(i)}) \\log \\frac{p(x^{(i)}, z^{(i)}|\\theta^{(t)})}{Q_i(z^{(i)})} + \\log p(\\theta^{(t)}) = L(\\theta^{t})$$\n",
    "\n",
    "W.R.T the lower bound \n",
    "$$ L(\\theta) = \\sum_{i=1}^m \\sum_{z^{(i)}} Q_i(z^{(i)}) \\log \\frac{p(x^{(i)}, z^{(i)}|\\theta)}{Q_i(z^{(i)})} + \\log p(\\theta) $$ \n",
    "the next iteration is done by explicitly choosing a $\\theta^{(t+1)}$ w.r.t the posertiori of $ Q_i^{(t)}$ to maximize $L(\\theta)$, which means $$L(\\theta^{t}) <= L(\\theta^{(t+1)})$$\n",
    "\n",
    "W.R.T the loss, the equality \n",
    "$$\\begin{align*}\n",
    "l(\\theta^{(t+1)}) \n",
    "&= L(\\theta^{(t+1)}) \\\\\n",
    "&= \\sum_{i=1}^m \\log p(x^{(i)}|\\theta^{(t+1)}) + \\log p(\\theta^{(t+1)})\n",
    "\\end{align*}$$\n",
    "\n",
    "holds only for \n",
    "$$Q_{(t+1)}(z^{(i)}) = p(z^{(i)} | x^{(i)}, \\theta^{(t+1)})$$\n",
    "\n",
    "which means \n",
    "$$ l(\\theta^{(t+1)}) = L(\\theta^{(t+1)}) >= L(\\theta^{t}) = l(\\theta^{t})$$\n"
   ]
  },
  {
   "cell_type": "code",
   "execution_count": null,
   "metadata": {},
   "outputs": [],
   "source": []
  }
 ],
 "metadata": {
  "kernelspec": {
   "display_name": "Python 2",
   "language": "python",
   "name": "python2"
  },
  "language_info": {
   "codemirror_mode": {
    "name": "ipython",
    "version": 2
   },
   "file_extension": ".py",
   "mimetype": "text/x-python",
   "name": "python",
   "nbconvert_exporter": "python",
   "pygments_lexer": "ipython2",
   "version": "2.7.10"
  }
 },
 "nbformat": 4,
 "nbformat_minor": 2
}
